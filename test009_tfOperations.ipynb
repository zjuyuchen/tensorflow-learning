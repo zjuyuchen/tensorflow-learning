{
 "cells": [
  {
   "cell_type": "code",
   "execution_count": 1,
   "metadata": {
    "collapsed": true
   },
   "outputs": [],
   "source": [
    "import tensorflow as tf"
   ]
  },
  {
   "cell_type": "code",
   "execution_count": 9,
   "metadata": {},
   "outputs": [],
   "source": [
    "a = tf.Variable([2,3], name=\"Variable_a\")#tf.constant but tf.Variable , 'op' for c, but 'class' for V\n",
    "b = tf.Variable([[2,3],[2,4]], name=\"Variable_b\")\n",
    "#variables must be initialized \n",
    "\n",
    "#initializing all variables at once\n",
    "init = tf.global_variables_initializer()\n",
    "with tf.Session() as sess:\n",
    "    sess.run(init)\n",
    "    \n",
    "#initializing a subset of variable\n",
    "init_ab = tf.variables_initializer([a,b], name=\"init_b\")\n",
    "with tf.Session() as sess:\n",
    "    sess.run(init_b)\n",
    "    \n",
    "#initializing single variable\n",
    "\n",
    "w = tf.Variable(tf.zeros([784,10]))\n",
    "with tf.Session() as sess:\n",
    "    sess.run(w.initializer)\n",
    "    \n",
    "    "
   ]
  },
  {
   "cell_type": "code",
   "execution_count": null,
   "metadata": {
    "collapsed": true
   },
   "outputs": [],
   "source": []
  }
 ],
 "metadata": {
  "kernelspec": {
   "display_name": "Python 3",
   "language": "python",
   "name": "python3"
  },
  "language_info": {
   "codemirror_mode": {
    "name": "ipython",
    "version": 3
   },
   "file_extension": ".py",
   "mimetype": "text/x-python",
   "name": "python",
   "nbconvert_exporter": "python",
   "pygments_lexer": "ipython3",
   "version": "3.5.3"
  }
 },
 "nbformat": 4,
 "nbformat_minor": 2
}
