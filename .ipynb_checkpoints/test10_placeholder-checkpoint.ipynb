{
 "cells": [
  {
   "cell_type": "code",
   "execution_count": 1,
   "metadata": {
    "collapsed": true
   },
   "outputs": [],
   "source": [
    "import tensorflow as tf"
   ]
  },
  {
   "cell_type": "code",
   "execution_count": 8,
   "metadata": {},
   "outputs": [
    {
     "name": "stdout",
     "output_type": "stream",
     "text": [
      "[ 3.  4.]\n",
      "[ 1.  2.]\n",
      "[ 3.  4.]\n",
      "[ 5.  6.]\n"
     ]
    }
   ],
   "source": [
    "a = tf.placeholder(dtype=tf.float32, shape=None)\n",
    "\n",
    "with tf.Session() as sess:\n",
    "    print(sess.run(a,feed_dict={a: [3, 4]}))#feeding the placeholder in session.\n",
    "    \n",
    "a_feed_list = [[1,2],[3,4],[5,6]]\n",
    "with tf.Session() as sess:\n",
    "    for _ in a_feed_list:\n",
    "        print(sess.run(a, {a:_}))#feeding multiple data points"
   ]
  },
  {
   "cell_type": "code",
   "execution_count": null,
   "metadata": {
    "collapsed": true
   },
   "outputs": [],
   "source": []
  }
 ],
 "metadata": {
  "kernelspec": {
   "display_name": "Python 3",
   "language": "python",
   "name": "python3"
  },
  "language_info": {
   "codemirror_mode": {
    "name": "ipython",
    "version": 3
   },
   "file_extension": ".py",
   "mimetype": "text/x-python",
   "name": "python",
   "nbconvert_exporter": "python",
   "pygments_lexer": "ipython3",
   "version": "3.5.3"
  }
 },
 "nbformat": 4,
 "nbformat_minor": 2
}
