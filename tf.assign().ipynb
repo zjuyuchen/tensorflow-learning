{
 "cells": [
  {
   "cell_type": "code",
   "execution_count": 1,
   "metadata": {
    "collapsed": true
   },
   "outputs": [],
   "source": [
    "import tensorflow as tf"
   ]
  },
  {
   "cell_type": "code",
   "execution_count": 17,
   "metadata": {},
   "outputs": [
    {
     "name": "stdout",
     "output_type": "stream",
     "text": [
      "<tf.Variable 'Variable_15:0' shape=() dtype=float32_ref>\n",
      "100.0\n",
      "20.0\n",
      "40.0\n",
      "80.0\n",
      "12.0\n",
      "10.0\n",
      "12.0\n",
      "8.0\n",
      "14.0\n",
      "6.0\n"
     ]
    }
   ],
   "source": [
    "a = tf.Variable(10.0)\n",
    "w = a.assign(100)\n",
    "a_times_two = a.assign(2*a)\n",
    "a_add_2 = a.assign_add(2)\n",
    "a_sub_2 = a.assign_sub(2)\n",
    "with tf.Session() as sess:\n",
    "    sess.run(w)\n",
    "    print(a)# assign is a kind of initializing!\n",
    "    print(a.eval())\n",
    "    \n",
    "with tf.Session() as sess:\n",
    "    sess.run(a.initializer)\n",
    "    print(a_times_two.eval())\n",
    "    print(a_times_two.eval())\n",
    "    print(a_times_two.eval())\n",
    "\n",
    "with tf.Session() as sess:\n",
    "    sess.run(a.initializer)\n",
    "    print(a_add_2.eval())\n",
    "    print(a_sub_2.eval())\n",
    "    \n",
    "sess1 = tf.Session()\n",
    "sess2 = tf.Session()\n",
    "\n",
    "sess1.run(a.initializer)#Each session maintains its own copy of variable\n",
    "sess2.run(a.initializer)\n",
    "\n",
    "print(sess1.run(a.assign_add(2)))\n",
    "print(sess2.run(a.assign_sub(2)))\n",
    "\n",
    "print(sess1.run(a.assign_add(2)))\n",
    "print(sess2.run(a.assign_sub(2)))\n",
    "\n",
    "sess1.close()\n",
    "sess2.close()"
   ]
  },
  {
   "cell_type": "code",
   "execution_count": null,
   "metadata": {
    "collapsed": true
   },
   "outputs": [],
   "source": []
  }
 ],
 "metadata": {
  "kernelspec": {
   "display_name": "Python 3",
   "language": "python",
   "name": "python3"
  },
  "language_info": {
   "codemirror_mode": {
    "name": "ipython",
    "version": 3
   },
   "file_extension": ".py",
   "mimetype": "text/x-python",
   "name": "python",
   "nbconvert_exporter": "python",
   "pygments_lexer": "ipython3",
   "version": "3.5.3"
  }
 },
 "nbformat": 4,
 "nbformat_minor": 2
}
