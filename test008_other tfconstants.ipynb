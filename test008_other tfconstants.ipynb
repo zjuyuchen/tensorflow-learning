{
 "cells": [
  {
   "cell_type": "code",
   "execution_count": 1,
   "metadata": {
    "collapsed": true
   },
   "outputs": [],
   "source": [
    "import tensorflow as tf"
   ]
  },
  {
   "cell_type": "code",
   "execution_count": 23,
   "metadata": {},
   "outputs": [
    {
     "name": "stdout",
     "output_type": "stream",
     "text": [
      "[ 1.  4.  7.]\n"
     ]
    }
   ],
   "source": [
    "a = tf.constant(2, dtype=tf.float32, shape=[1,3], name='input_a')#constant\n",
    "b = tf.zeros(shape=[2,3], dtype=tf.float32, name='input_zeros')#zeros\n",
    "c = tf.zeros_like(a, name='input_zeros_like_a')#zeros like some tensor\n",
    "d = tf.ones(shape=[3,3], dtype=tf.float32, name='input_ones')#ones similar as zeros\n",
    "e = tf.ones_like(a, name=\"input_ones_like_a\")#ones_like similar as zeros\n",
    "f = tf.fill([1,2], 8, name=\"input_fill\")#fill constant as shape\n",
    "g = tf.linspace(1.0, 9.0, 9, name=\"input_linspace\")#line space start=1.0, end=9.0, num=9\n",
    "h = tf.range(1.0, 10.0, 3)#range start=1.0, limit=10.0, space=3\n",
    "\n",
    "with tf.Session() as sess:\n",
    "    print(sess.run(h))"
   ]
  },
  {
   "cell_type": "code",
   "execution_count": null,
   "metadata": {
    "collapsed": true
   },
   "outputs": [],
   "source": []
  }
 ],
 "metadata": {
  "kernelspec": {
   "display_name": "Python 3",
   "language": "python",
   "name": "python3"
  },
  "language_info": {
   "codemirror_mode": {
    "name": "ipython",
    "version": 3
   },
   "file_extension": ".py",
   "mimetype": "text/x-python",
   "name": "python",
   "nbconvert_exporter": "python",
   "pygments_lexer": "ipython3",
   "version": "3.5.3"
  }
 },
 "nbformat": 4,
 "nbformat_minor": 2
}
